{
 "cells": [
  {
   "cell_type": "code",
   "execution_count": null,
   "metadata": {},
   "outputs": [],
   "source": [
    "123 + 456"
   ]
  }
 ],
 "metadata": {
  "kernelspec": {
   "display_name": "Python 3",
   "language": "python",
   "name": "python3"
  },
  "language_info": {
   "codemirror_mode": {
    "name": "ipython",
    "version": 3
   },
   "file_extension": ".py",
   "mimetype": "text/x-python",
   "name": "python",
   "nbconvert_exporter": "python",
   "pygments_lexer": "ipython3",
   "version": "3.7.0"
  },
  "rsconnect": {
   "previousServerId": null,
   "servers": {
    "77e78af2-656c-4bd1-a8ac-9e9e02f13208": {
     "server": "http://192.168.0.111:3939/",
     "serverName": "local"
    }
   }
  }
 },
 "nbformat": 4,
 "nbformat_minor": 2
}
